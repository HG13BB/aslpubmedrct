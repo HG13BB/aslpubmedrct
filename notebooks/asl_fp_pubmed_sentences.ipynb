{
 "cells": [
  {
   "cell_type": "code",
   "execution_count": 2,
   "id": "8d9f1f0f-76c0-417a-8f44-1900e31cd048",
   "metadata": {},
   "outputs": [],
   "source": [
    "import os\n",
    "import shutil\n",
    "\n",
    "import matplotlib.pyplot as plt\n",
    "import tensorflow as tf\n",
    "import tensorflow_hub as hub\n",
    "import tensorflow_text as text\n",
    "from official.nlp import optimization  # to create AdamW optmizer\n",
    "import pandas as pd\n",
    "\n",
    "tf.get_logger().setLevel(\"ERROR\")"
   ]
  },
  {
   "cell_type": "code",
   "execution_count": 4,
   "id": "cca6f883-8e9e-4bd9-a07f-8dd1b679e59b",
   "metadata": {},
   "outputs": [
    {
     "name": "stdout",
     "output_type": "stream",
     "text": [
      "Num GPUs Available:  1\n"
     ]
    },
    {
     "name": "stderr",
     "output_type": "stream",
     "text": [
      "2023-02-01 03:34:47.550602: I tensorflow/stream_executor/cuda/cuda_gpu_executor.cc:936] successful NUMA node read from SysFS had negative value (-1), but there must be at least one NUMA node, so returning NUMA node zero\n",
      "2023-02-01 03:34:47.564643: I tensorflow/stream_executor/cuda/cuda_gpu_executor.cc:936] successful NUMA node read from SysFS had negative value (-1), but there must be at least one NUMA node, so returning NUMA node zero\n",
      "2023-02-01 03:34:47.566635: I tensorflow/stream_executor/cuda/cuda_gpu_executor.cc:936] successful NUMA node read from SysFS had negative value (-1), but there must be at least one NUMA node, so returning NUMA node zero\n"
     ]
    }
   ],
   "source": [
    "print(\"Num GPUs Available: \", len(tf.config.list_physical_devices(\"GPU\")))"
   ]
  },
  {
   "cell_type": "code",
   "execution_count": 6,
   "id": "fee35770-0eed-4beb-9caf-27f0c5573483",
   "metadata": {},
   "outputs": [
    {
     "name": "stdout",
     "output_type": "stream",
     "text": [
      "env: PROJECT=qwiklabs-asl-01-0b585161b979\n",
      "env: BUCKET=qwiklabs-asl-01-0b585161b979\n",
      "env: REGION=\"us-central1\"\n"
     ]
    }
   ],
   "source": [
    "PROJECT = !(gcloud config get-value core/project)\n",
    "PROJECT = PROJECT[0]\n",
    "%env PROJECT = {PROJECT}\n",
    "%env BUCKET = {PROJECT}\n",
    "%env REGION = \"us-central1\"\n",
    "SEED = 0  "
   ]
  },
  {
   "cell_type": "markdown",
   "id": "5b70bb57-7d21-49f5-8eb6-fa02d1f58632",
   "metadata": {},
   "source": [
    "Download data from \n",
    "https://www.kaggle.com/datasets/anshulmehtakaggl/200000-abstracts-for-seq-sentence-classification?resource=download#"
   ]
  },
  {
   "cell_type": "code",
   "execution_count": 57,
   "id": "d4d301f3-318b-49ad-94ed-b0c18bec6e81",
   "metadata": {},
   "outputs": [
    {
     "name": "stderr",
     "output_type": "stream",
     "text": [
      "Copying gs://qwiklabs-asl-01-0b585161b979/pm_sentence/archive.zip...\n",
      "- [1 files][240.2 MiB/240.2 MiB]                                                \n",
      "Operation completed over 1 objects/240.2 MiB.                                    \n"
     ]
    }
   ],
   "source": [
    "%%bash \n",
    "gsutil cp gs://qwiklabs-asl-01-0b585161b979/pm_sentence/archive.zip /home/jupyter/pubmed_sentence/archive.zip"
   ]
  },
  {
   "cell_type": "code",
   "execution_count": 59,
   "id": "eb94bd8b-4b24-4ac4-b8da-1e56a6ff6c93",
   "metadata": {},
   "outputs": [],
   "source": [
    "#unzip locally\n",
    "from zipfile import ZipFile\n",
    "\n",
    "zip_path = r'/home/jupyter/pubmed_sentence/archive.zip'\n",
    "\n",
    "folder_path = r'/home/jupyter/pubmed_sentence' \n",
    "\n",
    "with ZipFile(zip_path, 'r') as zip_ref:\n",
    "    zip_ref.extractall(folder_path)\n",
    "    "
   ]
  },
  {
   "cell_type": "code",
   "execution_count": 73,
   "id": "49d19a3f-dae8-417c-aff3-65dfbbc11b58",
   "metadata": {},
   "outputs": [],
   "source": []
  },
  {
   "cell_type": "code",
   "execution_count": 82,
   "id": "f45e8c5d-4582-40ea-baea-a60165c6b1a0",
   "metadata": {},
   "outputs": [
    {
     "name": "stderr",
     "output_type": "stream",
     "text": [
      "Copying file:///home/jupyter/pubmed_sentence/200k_abstracts/test.txt [Content-Type=text/plain]...\n",
      "Copying file:///home/jupyter/pubmed_sentence/200k_abstracts/train.txt [Content-Type=text/plain]...\n",
      "==> NOTE: You are uploading one or more large file(s), which would run          \n",
      "significantly faster if you enable parallel composite uploads. This\n",
      "feature can be enabled by editing the\n",
      "\"parallel_composite_upload_threshold\" value in your .boto\n",
      "configuration file. However, note that if you do this large files will\n",
      "be uploaded as `composite objects\n",
      "<https://cloud.google.com/storage/docs/composite-objects>`_,which\n",
      "means that any user who downloads such objects will need to have a\n",
      "compiled crcmod installed (see \"gsutil help crcmod\"). This is because\n",
      "without a compiled crcmod, computing checksums on composite objects is\n",
      "so slow that gsutil disables downloads of composite objects.\n",
      "\n",
      "Copying file:///home/jupyter/pubmed_sentence/200k_abstracts/dev.txt [Content-Type=text/plain]...\n",
      "Copying file:///home/jupyter/pubmed_sentence/20k_abstracts/test.txt [Content-Type=text/plain]...\n",
      "| [4 files][354.7 MiB/354.7 MiB]                                                \n",
      "==> NOTE: You are performing a sequence of gsutil operations that may\n",
      "run significantly faster if you instead use gsutil -m cp ... Please\n",
      "see the -m section under \"gsutil help options\" for further information\n",
      "about when gsutil -m can be advantageous.\n",
      "\n",
      "Copying file:///home/jupyter/pubmed_sentence/20k_abstracts/train.txt [Content-Type=text/plain]...\n",
      "Copying file:///home/jupyter/pubmed_sentence/20k_abstracts/dev.txt [Content-Type=text/plain]...\n",
      "Copying file:///home/jupyter/pubmed_sentence/20k_abstracts_numbers_with_@/test.txt [Content-Type=text/plain]...\n",
      "Copying file:///home/jupyter/pubmed_sentence/20k_abstracts_numbers_with_@/train.txt [Content-Type=text/plain]...\n",
      "Copying file:///home/jupyter/pubmed_sentence/20k_abstracts_numbers_with_@/dev.txt [Content-Type=text/plain]...\n",
      "Copying file:///home/jupyter/pubmed_sentence/Numbers_replaced_with_@/test.txt [Content-Type=text/plain]...\n",
      "Copying file:///home/jupyter/pubmed_sentence/Numbers_replaced_with_@/train.txt [Content-Type=text/plain]...\n",
      "Copying file:///home/jupyter/pubmed_sentence/Numbers_replaced_with_@/dev.txt [Content-Type=text/plain]...\n",
      "Copying file:///home/jupyter/pubmed_sentence/archive.zip [Content-Type=application/zip]...\n",
      "- [13 files][ 1008 MiB/ 1008 MiB]   59.6 MiB/s                                  \n",
      "Operation completed over 13 objects/1008.7 MiB.                                  \n"
     ]
    }
   ],
   "source": [
    "%%bash\n",
    "\n",
    "gsutil cp -r /home/jupyter/pubmed_sentence/* gs://${BUCKET}/pm_sentence/\n"
   ]
  },
  {
   "cell_type": "code",
   "execution_count": null,
   "id": "507a8752-24cd-4b74-8ac2-6eeceb492426",
   "metadata": {},
   "outputs": [],
   "source": []
  }
 ],
 "metadata": {
  "environment": {
   "kernel": "python3",
   "name": "tf2-gpu.2-8.m103",
   "type": "gcloud",
   "uri": "gcr.io/deeplearning-platform-release/tf2-gpu.2-8:m103"
  },
  "kernelspec": {
   "display_name": "Python 3 (ipykernel)",
   "language": "python",
   "name": "python3"
  },
  "language_info": {
   "codemirror_mode": {
    "name": "ipython",
    "version": 3
   },
   "file_extension": ".py",
   "mimetype": "text/x-python",
   "name": "python",
   "nbconvert_exporter": "python",
   "pygments_lexer": "ipython3",
   "version": "3.7.12"
  }
 },
 "nbformat": 4,
 "nbformat_minor": 5
}
